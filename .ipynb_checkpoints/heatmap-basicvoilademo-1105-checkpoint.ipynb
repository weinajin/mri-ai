{
 "cells": [
  {
   "cell_type": "markdown",
   "metadata": {},
   "source": [
    "# Thank you for participating in the AI study!\n",
    "\n",
    "Dear doctor:\n",
    "\n",
    "This is the [study consent form](link). Some key points in the consent form:\n",
    "\n",
    "- Your participation is voluntary\n",
    "- You may decide to withdraw from this study at any time by closing this webpage\n",
    "\n",
    "If you have any question regarding the consent form, please feel free to contact the study PI Weina Jin: Phone: *604 603 8530*. Email: *weinaj@sfu.ca*\n",
    "\n",
    "By clicking the following checkbox, you indicate you have read the consent form and agree to participate in the study. "
   ]
  },
  {
   "cell_type": "code",
   "execution_count": 1,
   "metadata": {},
   "outputs": [
    {
     "data": {
      "application/vnd.jupyter.widget-view+json": {
       "model_id": "e9fdb5473e344ed3884c3c612feff5d7",
       "version_major": 2,
       "version_minor": 0
      },
      "text/plain": [
       "Checkbox(value=False, description='I  give consent to the study')"
      ]
     },
     "metadata": {},
     "output_type": "display_data"
    }
   ],
   "source": [
    "import nibabel\n",
    "import os\n",
    "import numpy as np\n",
    "import matplotlib.pyplot as plt\n",
    "import scipy.ndimage as ndimage\n",
    "import ipywidgets as ipyw\n",
    "\n",
    "ipyw.Checkbox(\n",
    "    value=False,\n",
    "    description='I  give consent to the study',\n",
    "    disabled=False\n",
    ")"
   ]
  },
  {
   "cell_type": "markdown",
   "metadata": {},
   "source": [
    "In this study you are invited to view several MRIs and give your judgment. \n",
    "\n",
    "Here is some instruction to use this simple webapp to view the MRI:\n",
    "\n",
    "- Change MRI view\n",
    "- Some MRI has a heatmap overlay on it."
   ]
  },
  {
   "cell_type": "code",
   "execution_count": 2,
   "metadata": {},
   "outputs": [],
   "source": [
    "modality = ['t1', 't1ce', 't2', 'flair']\n",
    "\n",
    "def load_data(path, bratsID, non_neg=True):\n",
    "    '''\n",
    "    Given a path of bratsID, load it with 4 MR modalities, and 4 heatmaps for each modality\n",
    "    non_neg: get rid of negative value of heatmap\n",
    "    '''\n",
    "    \n",
    "    mri_lst = []\n",
    "    hm_lst = []\n",
    "    hm_smooth_lst = []\n",
    "    for m in modality:\n",
    "        hm_path = os.path.join(path, bratsID, '{}_heatmap.nii'.format(m.lower())) \n",
    "        hm = nibabel.load(hm_path).get_fdata()\n",
    "        mri_path = os.path.join(path, bratsID, bratsID+'_{}.nii.gz'.format(m.lower())) \n",
    "        mri = nibabel.load(mri_path).get_fdata()\n",
    "        \n",
    "        hm = hm[::-1,::-1,:]\n",
    "        if non_neg:\n",
    "            hm[hm < 0] = 0\n",
    "        hm_smooth = ndimage.gaussian_filter(hm, sigma=2) \n",
    "        \n",
    "        hm_lst.append(hm)\n",
    "        mri_lst.append(mri)\n",
    "        hm_smooth_lst.append(hm_smooth) \n",
    "    return mri_lst, hm_lst, hm_smooth_lst\n",
    "\n",
    "# mri = '/Users/root202/OneDrive - sfu.ca/project/brain/heatmap_eval/heatmap_data/BraTS19_TCIA03_474_1/BraTS19_TCIA03_474_1_t2.nii.gz'\n",
    "path = '/Users/root202/OneDrive - sfu.ca/project/brain/heatmap_eval/heatmap_data/'\n",
    "bratsID = 'BraTS19_TCIA03_474_1'\n",
    "mri_lst, hm_lst, hm_smooth_lst = load_data(path, bratsID)"
   ]
  },
  {
   "cell_type": "code",
   "execution_count": 7,
   "metadata": {},
   "outputs": [],
   "source": [
    "# Code source: https://github.com/mohakpatel/ImageSliceViewer3D\n",
    "\n",
    "# %matplotlib inline\n",
    "\n",
    "class ImageSliceViewer3D:\n",
    "    \"\"\" \n",
    "    ImageSliceViewer3D is for viewing volumetric image slices in jupyter or\n",
    "    ipython notebooks. \n",
    "    \n",
    "    User can interactively change the slice plane selection for the image and \n",
    "    the slice plane being viewed. \n",
    "\n",
    "    Argumentss:\n",
    "    Volume = 3D input image\n",
    "    figsize = default(8,8), to set the size of the figure\n",
    "    cmap = default('plasma'), string for the matplotlib colormap. You can find \n",
    "    more matplotlib colormaps on the following link:\n",
    "    https://matplotlib.org/users/colormaps.html\n",
    "    \n",
    "    \"\"\"\n",
    "    \n",
    "    def __init__(self, mri_lst, heatmap_lst, alpha=.5, figsize=(10, 10), cmap='gray', heatmap_cmap = 'afmhot'):\n",
    "        self.mri_lst = mri_lst\n",
    "        self.heatmap_lst = heatmap_lst\n",
    "        self.figsize = figsize\n",
    "        self.cmap = cmap\n",
    "        self.heatmap_cmap = heatmap_cmap\n",
    "#         self.v = [np.min(volume), np.max(volume)]\n",
    "        self.alpha = alpha\n",
    "        self.hm_on = False\n",
    "        self.mri_on = True\n",
    "\n",
    "        # Call to select slice plane\n",
    "        ipyw.interact(self.view_selection, view=ipyw.RadioButtons(\n",
    "            options=['Axial','Saggital', 'Coronal'], value='Axial', \n",
    "            description='MRI view:', disabled=False,\n",
    "            style={'description_width': 'initial'}))\n",
    "\n",
    "#         # Call to adjust heatmap alpha\n",
    "#         ipyw.interact(self.heatmap_alpha, alpha=ipyw.IntSlider(min=0, max=1, step=0.1, continuous_update=False, \n",
    "#             description='Adjust heatmap opaque'))\n",
    "        \n",
    "        # Call to turn on/off heatmap\n",
    "        ipyw.interact(self.heatmap_switch, switch = ipyw.Checkbox(\n",
    "                                value=False,\n",
    "                                description='Show heatmap',\n",
    "                                disabled=False))\n",
    "        # Call to turn on/off mri\n",
    "        ipyw.interact(self.mri_switch, switch = ipyw.Checkbox(\n",
    "                                value=True,\n",
    "                                description='Show MRI',\n",
    "                                disabled=False))    \n",
    "    def heatmap_switch(self, switch):\n",
    "        self.hm_on = switch\n",
    "        \n",
    "    def mri_switch(self, switch):\n",
    "        self.mri_on = switch        \n",
    "        if self.hm_on==False and self.mri_on == False:\n",
    "            self.mri_on = True\n",
    "        \n",
    "    def view_selection(self, view):\n",
    "        # Transpose the volume to orient according to the slice plane selection\n",
    "        orient = {\"Saggital\":[1,2,0], \"Coronal\":[2,0,1], \"Axial\": [0,1,2]}\n",
    "        for i in range(len(modality)):\n",
    "            mri= np.transpose(self.mri_lst[i], orient[view])\n",
    "            hm = np.transpose(self.heatmap_lst[i], orient[view])\n",
    "            self.mri_lst[i] = mri\n",
    "            self.heatmap_lst[i] = hm\n",
    "            maxZ = mri.shape[2] - 1\n",
    "        \n",
    "        # Call to view a slice within the selected slice plane\n",
    "        ipyw.interact(self.plot_slice, \n",
    "            z=ipyw.IntSlider(min=0, max=maxZ, step=1, continuous_update=True, \n",
    "            description='Slices:'))\n",
    "        \n",
    "#     def heatmap_alpha(self, alpha):\n",
    "#         ipyw.interact(self.plot_slice, \n",
    "#             alpha=ipyw.IntSlider(min=0, max=1, step=0.1, continuous_update=False, \n",
    "#             description='Adjust heatmap opaque'))\n",
    "        \n",
    "    def plot_slice(self, z):\n",
    "\n",
    "        columns = 2\n",
    "        rows = 2\n",
    "        # Plot slice for the given plane and slice\n",
    "        self.fig = plt.figure(figsize=self.figsize)\n",
    "        for i in range(1, columns*rows +1):\n",
    "            mri = self.mri_lst[i-1]\n",
    "            hm = self.heatmap_lst[i-1]\n",
    "            subplot = self.fig.add_subplot(rows, columns, i)\n",
    "            if self.hm_on==False and self.mri_on == False:\n",
    "                self.mri_on = True\n",
    "            if self.mri_on:\n",
    "                subplot.imshow(mri[:,:,z], cmap=plt.get_cmap(self.cmap), \n",
    "                    vmin=np.min(mri), vmax=np.max(mri))\n",
    "            if self.hm_on:\n",
    "    #             hm_mask = np.ma.masked_array(mri*hm > 0, hm)\n",
    "                subplot.imshow(hm[:,:,z], cmap=plt.get_cmap(self.heatmap_cmap),\n",
    "                       alpha=self.alpha, vmin=np.min(hm), vmax=np.max(hm))\n",
    "    #             plt.imshow(hm_mask[:,:,z], cmap='gray', alpha=0.5)\n",
    "            subplot.set_title(modality[i-1].upper())"
   ]
  },
  {
   "cell_type": "markdown",
   "metadata": {},
   "source": [
    "## MRI 1"
   ]
  },
  {
   "cell_type": "code",
   "execution_count": 8,
   "metadata": {},
   "outputs": [
    {
     "data": {
      "application/vnd.jupyter.widget-view+json": {
       "model_id": "e8213f59af7d4a0eba093440e21b8641",
       "version_major": 2,
       "version_minor": 0
      },
      "text/plain": [
       "interactive(children=(RadioButtons(description='MRI view:', options=('Axial', 'Saggital', 'Coronal'), style=De…"
      ]
     },
     "metadata": {},
     "output_type": "display_data"
    },
    {
     "data": {
      "application/vnd.jupyter.widget-view+json": {
       "model_id": "c4dea7cd7a1e4257bd7361be8c14ed83",
       "version_major": 2,
       "version_minor": 0
      },
      "text/plain": [
       "interactive(children=(Checkbox(value=False, description='Show heatmap'), Output()), _dom_classes=('widget-inte…"
      ]
     },
     "metadata": {},
     "output_type": "display_data"
    },
    {
     "data": {
      "application/vnd.jupyter.widget-view+json": {
       "model_id": "8ac600fc781f4047ac81e8eae2d1e41b",
       "version_major": 2,
       "version_minor": 0
      },
      "text/plain": [
       "interactive(children=(Checkbox(value=True, description='Show MRI'), Output()), _dom_classes=('widget-interact'…"
      ]
     },
     "metadata": {},
     "output_type": "display_data"
    },
    {
     "data": {
      "text/plain": [
       "<__main__.ImageSliceViewer3D at 0x123d76c90>"
      ]
     },
     "execution_count": 8,
     "metadata": {},
     "output_type": "execute_result"
    }
   ],
   "source": [
    "ImageSliceViewer3D(mri_lst, hm_smooth_lst)\n"
   ]
  },
  {
   "cell_type": "code",
   "execution_count": 16,
   "metadata": {},
   "outputs": [
    {
     "data": {
      "application/vnd.jupyter.widget-view+json": {
       "model_id": "a7c4f04744f54f1bac2a549f2309a0d3",
       "version_major": 2,
       "version_minor": 0
      },
      "text/plain": [
       "ToggleButtons(description='Tumor Grade:', options=('LGG', 'HGG'), tooltips=('Low-grade glioma', 'Low-grade gli…"
      ]
     },
     "metadata": {},
     "output_type": "display_data"
    }
   ],
   "source": [
    "ipyw.ToggleButtons(\n",
    "    options=['LGG', 'HGG'],\n",
    "    description='Tumor Grade:',\n",
    "    disabled=False,\n",
    "    button_style='', # 'success', 'info', 'warning', 'danger' or ''\n",
    "    tooltips=['Low-grade glioma', 'Low-grade glioma'],\n",
    "#     icons=['check'] * 2\n",
    ")"
   ]
  },
  {
   "cell_type": "markdown",
   "metadata": {},
   "source": [
    "How confident are you in making the judgment?"
   ]
  },
  {
   "cell_type": "code",
   "execution_count": 17,
   "metadata": {},
   "outputs": [
    {
     "data": {
      "application/vnd.jupyter.widget-view+json": {
       "model_id": "cc18972d982f4769aae3c0941e8b3218",
       "version_major": 2,
       "version_minor": 0
      },
      "text/plain": [
       "IntSlider(value=5, continuous_update=False, description='Confidence', max=10)"
      ]
     },
     "metadata": {},
     "output_type": "display_data"
    }
   ],
   "source": [
    "ipyw.IntSlider(\n",
    "    value=5,\n",
    "    min=0,\n",
    "    max=10,\n",
    "    step=1,\n",
    "    description='Confidence',\n",
    "    disabled=False,\n",
    "    continuous_update=False,\n",
    "    orientation='horizontal',\n",
    "    readout=True,\n",
    "    readout_format='d'\n",
    ")"
   ]
  },
  {
   "cell_type": "markdown",
   "metadata": {},
   "source": [
    "## MRI 2"
   ]
  },
  {
   "cell_type": "code",
   "execution_count": 2,
   "metadata": {},
   "outputs": [
    {
     "ename": "NameError",
     "evalue": "name 'mri' is not defined",
     "output_type": "error",
     "traceback": [
      "\u001b[0;31m---------------------------------------------------------------------------\u001b[0m",
      "\u001b[0;31mNameError\u001b[0m                                 Traceback (most recent call last)",
      "\u001b[0;32m<ipython-input-2-eb620e60f16e>\u001b[0m in \u001b[0;36m<module>\u001b[0;34m\u001b[0m\n\u001b[0;32m----> 1\u001b[0;31m \u001b[0mImageSliceViewer3D\u001b[0m\u001b[0;34m(\u001b[0m\u001b[0mmri\u001b[0m\u001b[0;34m,\u001b[0m \u001b[0mheatmap\u001b[0m\u001b[0;34m)\u001b[0m\u001b[0;34m\u001b[0m\u001b[0;34m\u001b[0m\u001b[0m\n\u001b[0m",
      "\u001b[0;31mNameError\u001b[0m: name 'mri' is not defined"
     ]
    }
   ],
   "source": [
    "ImageSliceViewer3D(mri, heatmap)\n"
   ]
  },
  {
   "cell_type": "code",
   "execution_count": 16,
   "metadata": {},
   "outputs": [
    {
     "data": {
      "application/vnd.jupyter.widget-view+json": {
       "model_id": "a7c4f04744f54f1bac2a549f2309a0d3",
       "version_major": 2,
       "version_minor": 0
      },
      "text/plain": [
       "ToggleButtons(description='Tumor Grade:', options=('LGG', 'HGG'), tooltips=('Low-grade glioma', 'Low-grade gli…"
      ]
     },
     "metadata": {},
     "output_type": "display_data"
    }
   ],
   "source": [
    "ipyw.ToggleButtons(\n",
    "    options=['LGG', 'HGG'],\n",
    "    description='Tumor Grade:',\n",
    "    disabled=False,\n",
    "    button_style='', # 'success', 'info', 'warning', 'danger' or ''\n",
    "    tooltips=['Low-grade glioma', 'Low-grade glioma'],\n",
    "#     icons=['check'] * 2\n",
    ")"
   ]
  },
  {
   "cell_type": "markdown",
   "metadata": {},
   "source": [
    "How confident are you in making the judgment?"
   ]
  },
  {
   "cell_type": "code",
   "execution_count": 17,
   "metadata": {},
   "outputs": [
    {
     "data": {
      "application/vnd.jupyter.widget-view+json": {
       "model_id": "cc18972d982f4769aae3c0941e8b3218",
       "version_major": 2,
       "version_minor": 0
      },
      "text/plain": [
       "IntSlider(value=5, continuous_update=False, description='Confidence', max=10)"
      ]
     },
     "metadata": {},
     "output_type": "display_data"
    }
   ],
   "source": [
    "ipyw.IntSlider(\n",
    "    value=5,\n",
    "    min=0,\n",
    "    max=10,\n",
    "    step=1,\n",
    "    description='Confidence',\n",
    "    disabled=False,\n",
    "    continuous_update=False,\n",
    "    orientation='horizontal',\n",
    "    readout=True,\n",
    "    readout_format='d'\n",
    ")"
   ]
  },
  {
   "cell_type": "code",
   "execution_count": null,
   "metadata": {},
   "outputs": [],
   "source": []
  }
 ],
 "metadata": {
  "kernelspec": {
   "display_name": "Python 3",
   "language": "python",
   "name": "python3"
  },
  "language_info": {
   "codemirror_mode": {
    "name": "ipython",
    "version": 3
   },
   "file_extension": ".py",
   "mimetype": "text/x-python",
   "name": "python",
   "nbconvert_exporter": "python",
   "pygments_lexer": "ipython3",
   "version": "3.7.9"
  }
 },
 "nbformat": 4,
 "nbformat_minor": 4
}
