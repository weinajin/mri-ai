{
 "cells": [
  {
   "cell_type": "markdown",
   "metadata": {},
   "source": [
    "# Thank you for participating in the AI study!\n",
    "\n",
    "Dear doctor:\n",
    "\n",
    "In this study you are invited to view 30 MRI and give your judgment. \n",
    "\n",
    "Here is some instruction to use this simple webapp to view the MRI:\n",
    "\n",
    "- Change MRI view\n",
    "- Some MRI has a heatmap overlay on it."
   ]
  },
  {
   "cell_type": "code",
   "execution_count": 105,
   "metadata": {},
   "outputs": [],
   "source": [
    "import nibabel\n",
    "import numpy as np\n",
    "import matplotlib.pyplot as plt\n",
    "import scipy.ndimage as ndimage\n",
    "\n",
    "\n",
    "path = '/Users/root202/OneDrive - sfu.ca/project/brain/heatmap_eval/heatmap_data/BraTS19_TCIA03_474_1_gt0_pred1_GuidedGradCam_20201104_1434/FLAIR_heatmap.nii'\n",
    "heatmap = nibabel.load(path)\n",
    "mri = '/Users/root202/OneDrive - sfu.ca/project/brain/heatmap_eval/heatmap_data/BraTS19_TCIA03_474_1/BraTS19_TCIA03_474_1_t2.nii.gz'\n",
    "mri = nibabel.load(mri)\n",
    "\n",
    "heatmap = heatmap.get_fdata()[::-1,::-1,:]\n",
    "mri=mri.get_fdata()\n",
    "gaus = ndimage.gaussian_filter(heatmap, sigma=2) \n",
    "\n",
    "\n",
    "# Code source: https://github.com/mohakpatel/ImageSliceViewer3D\n",
    "import numpy as np\n",
    "import ipywidgets as ipyw\n",
    "import matplotlib.pyplot as plt\n",
    "# %matplotlib inline\n",
    "\n",
    "class ImageSliceViewer3D:\n",
    "    \"\"\" \n",
    "    ImageSliceViewer3D is for viewing volumetric image slices in jupyter or\n",
    "    ipython notebooks. \n",
    "    \n",
    "    User can interactively change the slice plane selection for the image and \n",
    "    the slice plane being viewed. \n",
    "\n",
    "    Argumentss:\n",
    "    Volume = 3D input image\n",
    "    figsize = default(8,8), to set the size of the figure\n",
    "    cmap = default('plasma'), string for the matplotlib colormap. You can find \n",
    "    more matplotlib colormaps on the following link:\n",
    "    https://matplotlib.org/users/colormaps.html\n",
    "    \n",
    "    \"\"\"\n",
    "    \n",
    "    def __init__(self, volume, heatmap, alpha=.5, figsize=(8,8), cmap='gray', heatmap_cmap = 'viridis'):\n",
    "        self.volume = volume\n",
    "        self.heatmap = heatmap\n",
    "        self.figsize = figsize\n",
    "        self.cmap = cmap\n",
    "        self.heatmap_cmap = heatmap_cmap\n",
    "        self.v = [np.min(volume), np.max(volume)]\n",
    "        self.ht_v = [np.min(heatmap), np.max(heatmap)]\n",
    "        self.alpha = alpha\n",
    "        self.hm_on = False\n",
    "        self.mri_on = True\n",
    "\n",
    "        # Call to select slice plane\n",
    "        ipyw.interact(self.view_selection, view=ipyw.RadioButtons(\n",
    "            options=['Axial','Saggital', 'Coronal'], value='Axial', \n",
    "            description='MRI view:', disabled=False,\n",
    "            style={'description_width': 'initial'}))\n",
    "\n",
    "#         # Call to adjust heatmap alpha\n",
    "#         ipyw.interact(self.heatmap_alpha, alpha=ipyw.IntSlider(min=0, max=1, step=0.1, continuous_update=False, \n",
    "#             description='Adjust heatmap opaque'))\n",
    "        \n",
    "        # Call to turn on/off heatmap\n",
    "        ipyw.interact(self.heatmap_switch, switch = ipyw.Checkbox(\n",
    "                                value=False,\n",
    "                                description='Show heatmap',\n",
    "                                disabled=False))\n",
    "        # Call to turn on/off mri\n",
    "        ipyw.interact(self.mri_switch, switch = ipyw.Checkbox(\n",
    "                                value=True,\n",
    "                                description='Show MRI',\n",
    "                                disabled=False))    \n",
    "    def heatmap_switch(self, switch):\n",
    "        self.hm_on = switch\n",
    "        \n",
    "    def mri_switch(self, switch):\n",
    "        self.mri_on = switch        \n",
    "        if self.hm_on==False and self.mri_on == False:\n",
    "            self.mri_on = True\n",
    "        \n",
    "    def view_selection(self, view):\n",
    "        # Transpose the volume to orient according to the slice plane selection\n",
    "        orient = {\"Saggital\":[1,2,0], \"Coronal\":[2,0,1], \"Axial\": [0,1,2]}\n",
    "        self.vol = np.transpose(self.volume, orient[view])\n",
    "        self.hm = np.transpose(self.heatmap, orient[view])\n",
    "        maxZ = self.vol.shape[2] - 1\n",
    "        \n",
    "        # Call to view a slice within the selected slice plane\n",
    "        ipyw.interact(self.plot_slice, \n",
    "            z=ipyw.IntSlider(min=0, max=maxZ, step=1, continuous_update=True, \n",
    "            description='Slices:'))\n",
    "        \n",
    "#     def heatmap_alpha(self, alpha):\n",
    "#         ipyw.interact(self.plot_slice, \n",
    "#             alpha=ipyw.IntSlider(min=0, max=1, step=0.1, continuous_update=False, \n",
    "#             description='Adjust heatmap opaque'))\n",
    "        \n",
    "    def plot_slice(self, z):\n",
    "        # Plot slice for the given plane and slice\n",
    "        self.fig = plt.figure(figsize=self.figsize)\n",
    "        if self.hm_on==False and self.mri_on == False:\n",
    "            self.mri_on = True\n",
    "        if self.mri_on:\n",
    "            plt.imshow(self.vol[:,:,z], cmap=plt.get_cmap(self.cmap), \n",
    "                vmin=self.v[0], vmax=self.v[1])\n",
    "        if self.hm_on:\n",
    "            plt.imshow(self.hm[:,:,z], cmap=plt.get_cmap(self.heatmap_cmap),\n",
    "                   alpha=self.alpha, vmin=self.ht_v[0], vmax=self.ht_v[1])\n",
    "\n"
   ]
  },
  {
   "cell_type": "markdown",
   "metadata": {},
   "source": [
    "## MRI 1"
   ]
  },
  {
   "cell_type": "code",
   "execution_count": 119,
   "metadata": {},
   "outputs": [
    {
     "data": {
      "application/vnd.jupyter.widget-view+json": {
       "model_id": "614d59c986a5490582c40a81633431f8",
       "version_major": 2,
       "version_minor": 0
      },
      "text/plain": [
       "interactive(children=(RadioButtons(description='MRI view:', options=('Axial', 'Saggital', 'Coronal'), style=De…"
      ]
     },
     "metadata": {},
     "output_type": "display_data"
    },
    {
     "data": {
      "application/vnd.jupyter.widget-view+json": {
       "model_id": "403d9151465443bbaa4444eb54286e0c",
       "version_major": 2,
       "version_minor": 0
      },
      "text/plain": [
       "interactive(children=(Checkbox(value=False, description='Show heatmap'), Output()), _dom_classes=('widget-inte…"
      ]
     },
     "metadata": {},
     "output_type": "display_data"
    },
    {
     "data": {
      "application/vnd.jupyter.widget-view+json": {
       "model_id": "be779a89d246454c8a0830d4716aa0dc",
       "version_major": 2,
       "version_minor": 0
      },
      "text/plain": [
       "interactive(children=(Checkbox(value=True, description='Show MRI'), Output()), _dom_classes=('widget-interact'…"
      ]
     },
     "metadata": {},
     "output_type": "display_data"
    },
    {
     "data": {
      "text/plain": [
       "<__main__.ImageSliceViewer3D at 0x13e71a910>"
      ]
     },
     "execution_count": 119,
     "metadata": {},
     "output_type": "execute_result"
    }
   ],
   "source": [
    "ImageSliceViewer3D(mri, gaus)\n"
   ]
  },
  {
   "cell_type": "markdown",
   "metadata": {},
   "source": [
    "## MRI 2"
   ]
  },
  {
   "cell_type": "code",
   "execution_count": 2,
   "metadata": {},
   "outputs": [
    {
     "ename": "NameError",
     "evalue": "name 'mri' is not defined",
     "output_type": "error",
     "traceback": [
      "\u001b[0;31m---------------------------------------------------------------------------\u001b[0m",
      "\u001b[0;31mNameError\u001b[0m                                 Traceback (most recent call last)",
      "\u001b[0;32m<ipython-input-2-eb620e60f16e>\u001b[0m in \u001b[0;36m<module>\u001b[0;34m\u001b[0m\n\u001b[0;32m----> 1\u001b[0;31m \u001b[0mImageSliceViewer3D\u001b[0m\u001b[0;34m(\u001b[0m\u001b[0mmri\u001b[0m\u001b[0;34m,\u001b[0m \u001b[0mheatmap\u001b[0m\u001b[0;34m)\u001b[0m\u001b[0;34m\u001b[0m\u001b[0;34m\u001b[0m\u001b[0m\n\u001b[0m",
      "\u001b[0;31mNameError\u001b[0m: name 'mri' is not defined"
     ]
    }
   ],
   "source": [
    "ImageSliceViewer3D(mri, heatmap)\n"
   ]
  },
  {
   "cell_type": "code",
   "execution_count": null,
   "metadata": {},
   "outputs": [],
   "source": []
  }
 ],
 "metadata": {
  "kernelspec": {
   "display_name": "Python 3",
   "language": "python",
   "name": "python3"
  },
  "language_info": {
   "codemirror_mode": {
    "name": "ipython",
    "version": 3
   },
   "file_extension": ".py",
   "mimetype": "text/x-python",
   "name": "python",
   "nbconvert_exporter": "python",
   "pygments_lexer": "ipython3",
   "version": "3.7.9"
  }
 },
 "nbformat": 4,
 "nbformat_minor": 4
}
